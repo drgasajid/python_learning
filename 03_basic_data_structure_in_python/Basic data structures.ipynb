{
 "cells": [
  {
   "cell_type": "markdown",
   "id": "540318f3",
   "metadata": {},
   "source": [
    "# Basic Data Structures in Python\n",
    "1. Tuples\n",
    "2. List\n",
    "3. Dictionaries\n",
    "4. Set"
   ]
  },
  {
   "cell_type": "markdown",
   "id": "26de097c",
   "metadata": {},
   "source": [
    "---"
   ]
  },
  {
   "cell_type": "markdown",
   "id": "6169e054",
   "metadata": {},
   "source": [
    "## 1. Tuples\n",
    "- Ordered collection of elements\n",
    "- Enclosed in () round braces / paranthesis \n",
    "- Different kinds of elements can be stored (one, two, three or all kinds)\n",
    "       -- Elements: String, Float, Integer and Boolean\n",
    "- Once element be stored can not be changed (unmutateable)"
   ]
  },
  {
   "cell_type": "code",
   "execution_count": 1,
   "id": "b990e55e",
   "metadata": {},
   "outputs": [
    {
     "data": {
      "text/plain": [
       "(1, 'Python', True, 2.3)"
      ]
     },
     "execution_count": 1,
     "metadata": {},
     "output_type": "execute_result"
    }
   ],
   "source": [
    "tup1 = (1, \"Python\", True, 2.3)\n",
    "tup1"
   ]
  },
  {
   "cell_type": "markdown",
   "id": "cb05a17f",
   "metadata": {},
   "source": [
    "*Type of Tuple:*"
   ]
  },
  {
   "cell_type": "code",
   "execution_count": 2,
   "id": "57d5a69c",
   "metadata": {
    "scrolled": true
   },
   "outputs": [
    {
     "data": {
      "text/plain": [
       "tuple"
      ]
     },
     "execution_count": 2,
     "metadata": {},
     "output_type": "execute_result"
    }
   ],
   "source": [
    "type(tup1)"
   ]
  },
  {
   "cell_type": "markdown",
   "id": "bfdbfd53",
   "metadata": {},
   "source": [
    "### Indexing in Tuple"
   ]
  },
  {
   "cell_type": "code",
   "execution_count": 3,
   "id": "24bf7c7b",
   "metadata": {},
   "outputs": [
    {
     "data": {
      "text/plain": [
       "1"
      ]
     },
     "execution_count": 3,
     "metadata": {},
     "output_type": "execute_result"
    }
   ],
   "source": [
    "tup1[0]"
   ]
  },
  {
   "cell_type": "code",
   "execution_count": 4,
   "id": "cc887f00",
   "metadata": {
    "scrolled": true
   },
   "outputs": [
    {
     "data": {
      "text/plain": [
       "'Python'"
      ]
     },
     "execution_count": 4,
     "metadata": {},
     "output_type": "execute_result"
    }
   ],
   "source": [
    "tup1[1]"
   ]
  },
  {
   "cell_type": "code",
   "execution_count": 5,
   "id": "2abb0a2f",
   "metadata": {},
   "outputs": [
    {
     "data": {
      "text/plain": [
       "True"
      ]
     },
     "execution_count": 5,
     "metadata": {},
     "output_type": "execute_result"
    }
   ],
   "source": [
    "tup1[2]"
   ]
  },
  {
   "cell_type": "code",
   "execution_count": 6,
   "id": "7ba1a170",
   "metadata": {},
   "outputs": [
    {
     "data": {
      "text/plain": [
       "2.3"
      ]
     },
     "execution_count": 6,
     "metadata": {},
     "output_type": "execute_result"
    }
   ],
   "source": [
    "tup1[3]"
   ]
  },
  {
   "cell_type": "markdown",
   "id": "f4bc553c",
   "metadata": {},
   "source": [
    "Length of indeces: tell count of elements in tuple"
   ]
  },
  {
   "cell_type": "code",
   "execution_count": 7,
   "id": "5c82ef46",
   "metadata": {},
   "outputs": [
    {
     "data": {
      "text/plain": [
       "4"
      ]
     },
     "execution_count": 7,
     "metadata": {},
     "output_type": "execute_result"
    }
   ],
   "source": [
    "len(tup1)"
   ]
  },
  {
   "cell_type": "markdown",
   "id": "8b3b2c60",
   "metadata": {},
   "source": [
    "Rnages:"
   ]
  },
  {
   "cell_type": "code",
   "execution_count": 8,
   "id": "0a96155b",
   "metadata": {},
   "outputs": [
    {
     "data": {
      "text/plain": [
       "(1, 'Python', True, 2.3)"
      ]
     },
     "execution_count": 8,
     "metadata": {},
     "output_type": "execute_result"
    }
   ],
   "source": [
    "tup1[0:4]"
   ]
  },
  {
   "cell_type": "markdown",
   "id": "2a9f73f3",
   "metadata": {},
   "source": [
    "_last element is exclusive_"
   ]
  },
  {
   "cell_type": "markdown",
   "id": "35dfeea1",
   "metadata": {},
   "source": [
    "### Dealing with two tuple"
   ]
  },
  {
   "cell_type": "code",
   "execution_count": 9,
   "id": "e33222f8",
   "metadata": {},
   "outputs": [
    {
     "data": {
      "text/plain": [
       "(3, 'Sajid', 2.5, False)"
      ]
     },
     "execution_count": 9,
     "metadata": {},
     "output_type": "execute_result"
    }
   ],
   "source": [
    "tup2 = (3, \"Sajid\", 2.5, False)\n",
    "tup2"
   ]
  },
  {
   "cell_type": "markdown",
   "id": "3ce857cc",
   "metadata": {},
   "source": [
    "adding two tuples (Concatinate):"
   ]
  },
  {
   "cell_type": "code",
   "execution_count": 10,
   "id": "83f7bd87",
   "metadata": {},
   "outputs": [
    {
     "data": {
      "text/plain": [
       "(1, 'Python', True, 2.3, 3, 'Sajid', 2.5, False)"
      ]
     },
     "execution_count": 10,
     "metadata": {},
     "output_type": "execute_result"
    }
   ],
   "source": [
    "tup1 + tup2"
   ]
  },
  {
   "cell_type": "markdown",
   "id": "29a96649",
   "metadata": {},
   "source": [
    "Multiplying and adding (repeat + concatinate):"
   ]
  },
  {
   "cell_type": "code",
   "execution_count": 11,
   "id": "89283ef4",
   "metadata": {
    "scrolled": true
   },
   "outputs": [
    {
     "data": {
      "text/plain": [
       "(1, 'Python', True, 2.3, 1, 'Python', True, 2.3, 3, 'Sajid', 2.5, False)"
      ]
     },
     "execution_count": 11,
     "metadata": {},
     "output_type": "execute_result"
    }
   ],
   "source": [
    "tup1*2 + tup2"
   ]
  },
  {
   "cell_type": "code",
   "execution_count": 12,
   "id": "d3cdb496",
   "metadata": {},
   "outputs": [
    {
     "data": {
      "text/plain": [
       "(28, 26, 37, 36, 46, 57, 89)"
      ]
     },
     "execution_count": 12,
     "metadata": {},
     "output_type": "execute_result"
    }
   ],
   "source": [
    "tup3 = (28, 26, 37, 36, 46, 57, 89)\n",
    "tup3"
   ]
  },
  {
   "cell_type": "code",
   "execution_count": 13,
   "id": "fa325396",
   "metadata": {},
   "outputs": [
    {
     "data": {
      "text/plain": [
       "(28, 26, 37, 36, 46, 57, 89, 28, 26, 37, 36, 46, 57, 89)"
      ]
     },
     "execution_count": 13,
     "metadata": {},
     "output_type": "execute_result"
    }
   ],
   "source": [
    "tup3*2"
   ]
  },
  {
   "cell_type": "markdown",
   "id": "87202b1a",
   "metadata": {},
   "source": [
    "---"
   ]
  },
  {
   "cell_type": "markdown",
   "id": "50d0d0b7",
   "metadata": {},
   "source": [
    "## 2. List\n",
    "- Ordered collection of elements\n",
    "- Enclosed in [] square braces / brackets\n",
    "- We can mutate them (change the values)"
   ]
  },
  {
   "cell_type": "code",
   "execution_count": 14,
   "id": "192b7e40",
   "metadata": {},
   "outputs": [
    {
     "data": {
      "text/plain": [
       "[3, 'Sajid', False]"
      ]
     },
     "execution_count": 14,
     "metadata": {},
     "output_type": "execute_result"
    }
   ],
   "source": [
    "list1 = [3, \"Sajid\", False]\n",
    "list1"
   ]
  },
  {
   "cell_type": "code",
   "execution_count": 15,
   "id": "de8ca18f",
   "metadata": {},
   "outputs": [
    {
     "data": {
      "text/plain": [
       "list"
      ]
     },
     "execution_count": 15,
     "metadata": {},
     "output_type": "execute_result"
    }
   ],
   "source": [
    "type(list1)"
   ]
  },
  {
   "cell_type": "code",
   "execution_count": 16,
   "id": "85004bf5",
   "metadata": {},
   "outputs": [
    {
     "data": {
      "text/plain": [
       "3"
      ]
     },
     "execution_count": 16,
     "metadata": {},
     "output_type": "execute_result"
    }
   ],
   "source": [
    "len(list1)"
   ]
  },
  {
   "cell_type": "code",
   "execution_count": 17,
   "id": "589c0d9d",
   "metadata": {},
   "outputs": [
    {
     "data": {
      "text/plain": [
       "'Sajid'"
      ]
     },
     "execution_count": 17,
     "metadata": {},
     "output_type": "execute_result"
    }
   ],
   "source": [
    "list1[1]"
   ]
  },
  {
   "cell_type": "code",
   "execution_count": 18,
   "id": "13066d1c",
   "metadata": {},
   "outputs": [
    {
     "data": {
      "text/plain": [
       "False"
      ]
     },
     "execution_count": 18,
     "metadata": {},
     "output_type": "execute_result"
    }
   ],
   "source": [
    "list1[2]"
   ]
  },
  {
   "cell_type": "code",
   "execution_count": 19,
   "id": "6a1d64a4",
   "metadata": {},
   "outputs": [
    {
     "data": {
      "text/plain": [
       "3"
      ]
     },
     "execution_count": 19,
     "metadata": {},
     "output_type": "execute_result"
    }
   ],
   "source": [
    "list1[0]"
   ]
  },
  {
   "cell_type": "code",
   "execution_count": 20,
   "id": "dcfca532",
   "metadata": {},
   "outputs": [
    {
     "data": {
      "text/plain": [
       "[430, 'Python', 'GitHub', 20.5, False]"
      ]
     },
     "execution_count": 20,
     "metadata": {},
     "output_type": "execute_result"
    }
   ],
   "source": [
    "list2 = [430, \"Python\", \"GitHub\", 20.5, False]\n",
    "list2"
   ]
  },
  {
   "cell_type": "markdown",
   "id": "ea1d3c69",
   "metadata": {},
   "source": [
    "adding two or more lists (concatinate):"
   ]
  },
  {
   "cell_type": "code",
   "execution_count": 21,
   "id": "eac4aefc",
   "metadata": {},
   "outputs": [
    {
     "data": {
      "text/plain": [
       "[3, 'Sajid', False, 430, 'Python', 'GitHub', 20.5, False]"
      ]
     },
     "execution_count": 21,
     "metadata": {},
     "output_type": "execute_result"
    }
   ],
   "source": [
    "list1 + list2"
   ]
  },
  {
   "cell_type": "code",
   "execution_count": 22,
   "id": "02631780",
   "metadata": {},
   "outputs": [
    {
     "data": {
      "text/plain": [
       "[3, 'Sajid', False, 3, 'Sajid', False, 430, 'Python', 'GitHub', 20.5, False]"
      ]
     },
     "execution_count": 22,
     "metadata": {},
     "output_type": "execute_result"
    }
   ],
   "source": [
    "list1*2 + list2"
   ]
  },
  {
   "cell_type": "markdown",
   "id": "d445b523",
   "metadata": {},
   "source": [
    "**Mutation in lists**"
   ]
  },
  {
   "cell_type": "code",
   "execution_count": 23,
   "id": "24e3c580",
   "metadata": {},
   "outputs": [
    {
     "data": {
      "text/plain": [
       "[False, 'Sajid', 3]"
      ]
     },
     "execution_count": 23,
     "metadata": {},
     "output_type": "execute_result"
    }
   ],
   "source": [
    "list1.reverse()\n",
    "list1"
   ]
  },
  {
   "cell_type": "code",
   "execution_count": 24,
   "id": "94bde505",
   "metadata": {},
   "outputs": [
    {
     "data": {
      "text/plain": [
       "[430, 'Python', 20.5, False]"
      ]
     },
     "execution_count": 24,
     "metadata": {},
     "output_type": "execute_result"
    }
   ],
   "source": [
    "list2.remove(\"GitHub\")\n",
    "list2"
   ]
  },
  {
   "cell_type": "code",
   "execution_count": 25,
   "id": "daff2c19",
   "metadata": {},
   "outputs": [
    {
     "data": {
      "text/plain": [
       "[430, 'Python', 20.5, False, 'Animal Scientist']"
      ]
     },
     "execution_count": 25,
     "metadata": {},
     "output_type": "execute_result"
    }
   ],
   "source": [
    "list2.append(\"Animal Scientist\")\n",
    "list2"
   ]
  },
  {
   "cell_type": "code",
   "execution_count": 26,
   "id": "0803b7dd",
   "metadata": {},
   "outputs": [
    {
     "data": {
      "text/plain": [
       "[430,\n",
       " 'Python',\n",
       " 20.5,\n",
       " False,\n",
       " 'Animal Scientist',\n",
       " 430,\n",
       " 'Python',\n",
       " 20.5,\n",
       " False,\n",
       " 'Animal Scientist',\n",
       " 430,\n",
       " 'Python',\n",
       " 20.5,\n",
       " False,\n",
       " 'Animal Scientist']"
      ]
     },
     "execution_count": 26,
     "metadata": {},
     "output_type": "execute_result"
    }
   ],
   "source": [
    "list2*3"
   ]
  },
  {
   "cell_type": "code",
   "execution_count": 27,
   "id": "299dfe8b",
   "metadata": {},
   "outputs": [
    {
     "data": {
      "text/plain": [
       "[(3, 'Sajid', 2.5, False), (3, 'Sajid', 2.5, False), (2, 'Sajid', 2.5, True)]"
      ]
     },
     "execution_count": 27,
     "metadata": {},
     "output_type": "execute_result"
    }
   ],
   "source": [
    "list3 = [(3, \"Sajid\", 2.5, False), (3, \"Sajid\", 2.5, False), (2, \"Sajid\", 2.5, True)]\n",
    "list3"
   ]
  },
  {
   "cell_type": "code",
   "execution_count": 28,
   "id": "12bb5eba",
   "metadata": {},
   "outputs": [
    {
     "data": {
      "text/plain": [
       "[20, 30, 60, 10, 30, 78, 90, 29, 86]"
      ]
     },
     "execution_count": 28,
     "metadata": {},
     "output_type": "execute_result"
    }
   ],
   "source": [
    "list4 = [20, 30, 60, 10, 30, 78, 90, 29, 86]\n",
    "list4"
   ]
  },
  {
   "cell_type": "code",
   "execution_count": 29,
   "id": "05ec1083",
   "metadata": {},
   "outputs": [
    {
     "data": {
      "text/plain": [
       "[10, 20, 29, 30, 30, 60, 78, 86, 90]"
      ]
     },
     "execution_count": 29,
     "metadata": {},
     "output_type": "execute_result"
    }
   ],
   "source": [
    "list4.sort()\n",
    "list4"
   ]
  },
  {
   "cell_type": "markdown",
   "id": "9af1a1fa",
   "metadata": {},
   "source": [
    "---"
   ]
  },
  {
   "cell_type": "markdown",
   "id": "0e2fa277",
   "metadata": {},
   "source": [
    "## 3. Dictionaries\n",
    "- An unordered collection of elements\n",
    "- Have key and value\n",
    "- Enclosed in curly {} braces / brackets\n",
    "- This is also mutateable/ we can change any value\n"
   ]
  },
  {
   "cell_type": "code",
   "execution_count": 30,
   "id": "223e4534",
   "metadata": {},
   "outputs": [
    {
     "data": {
      "text/plain": [
       "{'Samosa': 25, 'Pakora': 80, 'Chicken Roll': 35}"
      ]
     },
     "execution_count": 30,
     "metadata": {},
     "output_type": "execute_result"
    }
   ],
   "source": [
    "d1 = {\"Samosa\": 25, \"Pakora\": 80, \"Chicken Roll\": 35}\n",
    "d1"
   ]
  },
  {
   "cell_type": "code",
   "execution_count": 31,
   "id": "ed8ad068",
   "metadata": {},
   "outputs": [
    {
     "data": {
      "text/plain": [
       "dict"
      ]
     },
     "execution_count": 31,
     "metadata": {},
     "output_type": "execute_result"
    }
   ],
   "source": [
    "type(d1)"
   ]
  },
  {
   "cell_type": "code",
   "execution_count": 32,
   "id": "6a07184d",
   "metadata": {},
   "outputs": [
    {
     "data": {
      "text/plain": [
       "dict_keys(['Samosa', 'Pakora', 'Chicken Roll'])"
      ]
     },
     "execution_count": 32,
     "metadata": {},
     "output_type": "execute_result"
    }
   ],
   "source": [
    "d1.keys()"
   ]
  },
  {
   "cell_type": "code",
   "execution_count": 33,
   "id": "ea2c0907",
   "metadata": {},
   "outputs": [
    {
     "data": {
      "text/plain": [
       "dict_values([25, 80, 35])"
      ]
     },
     "execution_count": 33,
     "metadata": {},
     "output_type": "execute_result"
    }
   ],
   "source": [
    "d1.values()"
   ]
  },
  {
   "cell_type": "code",
   "execution_count": 34,
   "id": "561bb75e",
   "metadata": {},
   "outputs": [
    {
     "data": {
      "text/plain": [
       "{'Samosa': 25, 'Pakora': 80, 'Chicken Roll': 35}"
      ]
     },
     "execution_count": 34,
     "metadata": {},
     "output_type": "execute_result"
    }
   ],
   "source": [
    "d1"
   ]
  },
  {
   "cell_type": "markdown",
   "id": "2bb36618",
   "metadata": {},
   "source": [
    "adding a new key and value"
   ]
  },
  {
   "cell_type": "code",
   "execution_count": 35,
   "id": "4995e111",
   "metadata": {},
   "outputs": [
    {
     "data": {
      "text/plain": [
       "{'Samosa': 25, 'Pakora': 80, 'Chicken Roll': 35, 'Tikki': 10}"
      ]
     },
     "execution_count": 35,
     "metadata": {},
     "output_type": "execute_result"
    }
   ],
   "source": [
    "d1[\"Tikki\"]=10\n",
    "d1"
   ]
  },
  {
   "cell_type": "markdown",
   "id": "c36b3d74",
   "metadata": {},
   "source": [
    "update existing key or value"
   ]
  },
  {
   "cell_type": "code",
   "execution_count": 36,
   "id": "f50a265d",
   "metadata": {},
   "outputs": [
    {
     "data": {
      "text/plain": [
       "{'Samosa': 30, 'Pakora': 80, 'Chicken Roll': 35, 'Tikki': 10}"
      ]
     },
     "execution_count": 36,
     "metadata": {},
     "output_type": "execute_result"
    }
   ],
   "source": [
    "d1[\"Samosa\"]= 30\n",
    "d1"
   ]
  },
  {
   "cell_type": "markdown",
   "id": "3e5ef11b",
   "metadata": {},
   "source": [
    "Dealing with two dictionaries:"
   ]
  },
  {
   "cell_type": "code",
   "execution_count": 37,
   "id": "5db479f8",
   "metadata": {},
   "outputs": [
    {
     "data": {
      "text/plain": [
       "{'Choco': 200, 'Candies': 80, 'Lays': 50}"
      ]
     },
     "execution_count": 37,
     "metadata": {},
     "output_type": "execute_result"
    }
   ],
   "source": [
    "d2 = {\"Choco\": 200, \"Candies\": 80, \"Lays\":50}\n",
    "d2"
   ]
  },
  {
   "cell_type": "markdown",
   "id": "13f4bf42",
   "metadata": {},
   "source": [
    "Concatinate or adding two dict:"
   ]
  },
  {
   "cell_type": "code",
   "execution_count": 40,
   "id": "d4b02d8e",
   "metadata": {},
   "outputs": [
    {
     "data": {
      "text/plain": [
       "{'Samosa': 30,\n",
       " 'Pakora': 80,\n",
       " 'Chicken Roll': 35,\n",
       " 'Tikki': 10,\n",
       " 'Choco': 200,\n",
       " 'Candies': 80,\n",
       " 'Lays': 50}"
      ]
     },
     "execution_count": 40,
     "metadata": {},
     "output_type": "execute_result"
    }
   ],
   "source": [
    "d1.update(d2)\n",
    "d1"
   ]
  },
  {
   "cell_type": "code",
   "execution_count": 41,
   "id": "1227521a",
   "metadata": {},
   "outputs": [
    {
     "data": {
      "text/plain": [
       "485"
      ]
     },
     "execution_count": 41,
     "metadata": {},
     "output_type": "execute_result"
    }
   ],
   "source": [
    "sum(d1.values())"
   ]
  },
  {
   "cell_type": "markdown",
   "id": "32095d87",
   "metadata": {},
   "source": [
    "---"
   ]
  },
  {
   "cell_type": "markdown",
   "id": "5715d4ec",
   "metadata": {},
   "source": [
    "## 4. Set\n",
    "- An unordered collection of elements\n",
    "- No duplicates are allowed\n",
    "- Enclosed in curly {} braces / brackets"
   ]
  },
  {
   "cell_type": "code",
   "execution_count": 44,
   "id": "12004908",
   "metadata": {},
   "outputs": [
    {
     "data": {
      "text/plain": [
       "{1.1, 2, 2.8, 4.2, 'ABG', 'Biology', 'Sajid'}"
      ]
     },
     "execution_count": 44,
     "metadata": {},
     "output_type": "execute_result"
    }
   ],
   "source": [
    "s1 = {1.1, 2, 4.2, \"Sajid\", 2.8, \"ABG\", \"Biology\"}\n",
    "s1"
   ]
  },
  {
   "cell_type": "code",
   "execution_count": 46,
   "id": "6256c754",
   "metadata": {},
   "outputs": [
    {
     "data": {
      "text/plain": [
       "{1.1, 2, 2.8, 4.2, 'ABG', 'Biology', 'Sajid'}"
      ]
     },
     "execution_count": 46,
     "metadata": {},
     "output_type": "execute_result"
    }
   ],
   "source": [
    "s1.add(\"Sajid\")\n",
    "s1"
   ]
  },
  {
   "cell_type": "code",
   "execution_count": 48,
   "id": "22184929",
   "metadata": {},
   "outputs": [
    {
     "data": {
      "text/plain": [
       "{1, 1.1, 2, 2.8, 4.2, 'ABG', 'Biology', 'Sajid'}"
      ]
     },
     "execution_count": 48,
     "metadata": {},
     "output_type": "execute_result"
    }
   ],
   "source": [
    "s1.add(1)\n",
    "s1"
   ]
  },
  {
   "cell_type": "markdown",
   "id": "a90aa4d4",
   "metadata": {},
   "source": [
    "---"
   ]
  },
  {
   "cell_type": "markdown",
   "id": "e76ed34d",
   "metadata": {},
   "source": [
    "_This file is prepared by Ghulam Asghar Sajid_"
   ]
  }
 ],
 "metadata": {
  "kernelspec": {
   "display_name": "Python 3 (ipykernel)",
   "language": "python",
   "name": "python3"
  },
  "language_info": {
   "codemirror_mode": {
    "name": "ipython",
    "version": 3
   },
   "file_extension": ".py",
   "mimetype": "text/x-python",
   "name": "python",
   "nbconvert_exporter": "python",
   "pygments_lexer": "ipython3",
   "version": "3.9.7"
  }
 },
 "nbformat": 4,
 "nbformat_minor": 5
}
