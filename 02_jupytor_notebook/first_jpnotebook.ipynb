{
 "cells": [
  {
   "cell_type": "markdown",
   "id": "bf92146f",
   "metadata": {},
   "source": [
    "# Python Learning\n",
    "## Working on Jupytor Notebook\n",
    "### Basics\n",
    "1. My first notebook\n",
    "2. I am making markdown file"
   ]
  },
  {
   "cell_type": "code",
   "execution_count": 1,
   "id": "013f3357",
   "metadata": {
    "scrolled": true
   },
   "outputs": [],
   "source": [
    "print(2+3+4+5)\n",
    "print(\"My name is Dr Ghulam Asghar Sajid\")\n",
    "print(\"I want to be a data analyst\")"
   ]
  },
  {
   "cell_type": "markdown",
   "id": "0608c02e",
   "metadata": {},
   "source": [
    "**Jupytor don't show comments (with #) in a coding cell e.g; # String Varibale"
   ]
  },
  {
   "cell_type": "code",
   "execution_count": 2,
   "id": "9b375a28",
   "metadata": {},
   "outputs": [],
   "source": [
    "y = \"My name is Ghulam Asghar Sajid\"  # String Variable\n",
    "y"
   ]
  },
  {
   "cell_type": "markdown",
   "id": "b79ff58c",
   "metadata": {},
   "source": [
    "### Operators"
   ]
  },
  {
   "cell_type": "code",
   "execution_count": 3,
   "id": "a9eab53b",
   "metadata": {
    "scrolled": true
   },
   "outputs": [],
   "source": [
    "print(2+1)\n",
    "print(673-623)\n",
    "print(6728/23)\n",
    "print(673*72)\n",
    "print(6729%13)\n",
    "print(6728//23)\n",
    "print(781**3)\n",
    "print(673**3/78-34+7823/23*2)"
   ]
  },
  {
   "cell_type": "markdown",
   "id": "c2c8898e",
   "metadata": {},
   "source": [
    "### Strings"
   ]
  },
  {
   "cell_type": "code",
   "execution_count": 4,
   "id": "64d51f8e",
   "metadata": {
    "scrolled": false
   },
   "outputs": [],
   "source": [
    "print(\"My name is Dr Ghulam Asghar Sajid\")\n",
    "print(\"I want to be a data analyst\")\n",
    "print('test for single col')\n",
    "print(\"test for double col\")\n",
    "print('''test for triple col''')"
   ]
  },
  {
   "cell_type": "markdown",
   "id": "2155e88c",
   "metadata": {},
   "source": [
    "**Quotation marks; inverted comma (single or double or triple) are same in Python"
   ]
  },
  {
   "cell_type": "markdown",
   "id": "c11d1886",
   "metadata": {},
   "source": [
    "### Varibales\n",
    "\n",
    "Variables: Object containing specific values"
   ]
  },
  {
   "cell_type": "code",
   "execution_count": 5,
   "id": "7888b54b",
   "metadata": {
    "scrolled": true
   },
   "outputs": [],
   "source": [
    "x = 5  # Numeric or Integer Variable\n",
    "print(x)\n",
    "\n",
    "y = \"My name is Ghulam Asghar Sajid\"  # String Variable\n",
    "print(y)"
   ]
  },
  {
   "cell_type": "markdown",
   "id": "83c1f77e",
   "metadata": {},
   "source": [
    "**Update if you re-suppose"
   ]
  },
  {
   "cell_type": "code",
   "execution_count": 6,
   "id": "96b4837f",
   "metadata": {},
   "outputs": [],
   "source": [
    "x = 25\n",
    "print(x)\n",
    "\n",
    "x = x-7 # Or you can update your previsou suppose value in any way\n",
    "print(x)"
   ]
  },
  {
   "cell_type": "markdown",
   "id": "ef733581",
   "metadata": {},
   "source": [
    "**Type/Class of variables**"
   ]
  },
  {
   "cell_type": "code",
   "execution_count": 7,
   "id": "cb59773e",
   "metadata": {},
   "outputs": [],
   "source": [
    "type(x)\n",
    "print(type(x))\n",
    "print(type(y))"
   ]
  },
  {
   "cell_type": "markdown",
   "id": "4b0664c8",
   "metadata": {},
   "source": [
    "Rules to assign a variable/object:\n",
    "1. The variable should contain letters, numbers or underscores\n",
    "2. Do not start with numbers\n",
    "3. Spaces are not allowed\n",
    "4. Do not use keywords already used in python functions (break, mean, medium, test etc)\n",
    "     _You can search function in python using Google_\n",
    "5. Variable name should be short and descriptive\n",
    "6. Case sensitivety (Try to use lower case variable)"
   ]
  },
  {
   "cell_type": "code",
   "execution_count": 8,
   "id": "50b9fe6b",
   "metadata": {
    "scrolled": true
   },
   "outputs": [],
   "source": [
    "fruit_basket = \"Apple, Apple, Orange\"  \n",
    "print(fruit_basket)\n",
    "print(type(fruit_basket))\n",
    "\n",
    "fruit_basket = 3\n",
    "print(fruit_basket)\n",
    "print(type(fruit_basket))"
   ]
  },
  {
   "cell_type": "markdown",
   "id": "4e737f03",
   "metadata": {},
   "source": [
    "To delete:"
   ]
  },
  {
   "cell_type": "code",
   "execution_count": 9,
   "id": "e2b7900f",
   "metadata": {},
   "outputs": [],
   "source": [
    "del fruit_basket"
   ]
  },
  {
   "cell_type": "markdown",
   "id": "2b3f04a4",
   "metadata": {},
   "source": [
    "**Desireable Variables**"
   ]
  },
  {
   "cell_type": "code",
   "execution_count": 10,
   "id": "0caabfb0",
   "metadata": {},
   "outputs": [],
   "source": [
    "fruit_basket=\"Mangoes\"\n",
    "print(fruit_basket)"
   ]
  },
  {
   "cell_type": "markdown",
   "id": "3f252d9d",
   "metadata": {},
   "source": [
    "To create function on desire\n",
    "\n",
    "_input function_\n"
   ]
  },
  {
   "cell_type": "code",
   "execution_count": null,
   "id": "b1e4626b",
   "metadata": {},
   "outputs": [],
   "source": [
    "fruit_basket=input(\"which is your favorite fruit? \")\n",
    "print(fruit_basket)"
   ]
  },
  {
   "cell_type": "markdown",
   "id": "6955616c",
   "metadata": {},
   "source": [
    "## Conditional Logics\n",
    "| Name | Sign |\n",
    "| :--- | :---: |\n",
    "|equal to | == |\n",
    "|not equal to | != |\n",
    "|less than | < |\n",
    "|greator than | > |\n",
    "|less than & equal to | <= |\n",
    "|greator than & equal to | >= |\n",
    "\n",
    "_Logical operators are eithers \"true or false\" or \"yes or no\" or \"0 or 1\"_\n",
    "\n"
   ]
  }
 ],
 "metadata": {
  "kernelspec": {
   "display_name": "Python 3 (ipykernel)",
   "language": "python",
   "name": "python3"
  },
  "language_info": {
   "codemirror_mode": {
    "name": "ipython",
    "version": 3
   },
   "file_extension": ".py",
   "mimetype": "text/x-python",
   "name": "python",
   "nbconvert_exporter": "python",
   "pygments_lexer": "ipython3",
   "version": "3.9.7"
  }
 },
 "nbformat": 4,
 "nbformat_minor": 5
}
