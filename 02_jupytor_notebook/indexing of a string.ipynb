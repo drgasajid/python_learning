{
 "cells": [
  {
   "cell_type": "markdown",
   "id": "68018394",
   "metadata": {},
   "source": [
    "# Indexing"
   ]
  },
  {
   "cell_type": "markdown",
   "id": "ab62c522",
   "metadata": {},
   "source": [
    "Sample String"
   ]
  },
  {
   "cell_type": "code",
   "execution_count": 1,
   "id": "e03f1bb3",
   "metadata": {},
   "outputs": [
    {
     "data": {
      "text/plain": [
       "'My Pen'"
      ]
     },
     "execution_count": 1,
     "metadata": {},
     "output_type": "execute_result"
    }
   ],
   "source": [
    "mystr = \"My Pen\"\n",
    "mystr"
   ]
  },
  {
   "cell_type": "markdown",
   "id": "89644f71",
   "metadata": {},
   "source": [
    "_*to check the length of indeces_"
   ]
  },
  {
   "cell_type": "code",
   "execution_count": 2,
   "id": "dc66e2c2",
   "metadata": {},
   "outputs": [
    {
     "data": {
      "text/plain": [
       "6"
      ]
     },
     "execution_count": 2,
     "metadata": {},
     "output_type": "execute_result"
    }
   ],
   "source": [
    "len(mystr)"
   ]
  },
  {
   "cell_type": "markdown",
   "id": "cf8d60ec",
   "metadata": {},
   "source": [
    "Index start from 0 so that if length of indeces = 6, last index will be 5, as follows:"
   ]
  },
  {
   "cell_type": "code",
   "execution_count": 3,
   "id": "4258147c",
   "metadata": {},
   "outputs": [
    {
     "data": {
      "text/plain": [
       "'M'"
      ]
     },
     "execution_count": 3,
     "metadata": {},
     "output_type": "execute_result"
    }
   ],
   "source": [
    "mystr[0]"
   ]
  },
  {
   "cell_type": "code",
   "execution_count": 4,
   "id": "51f8ec42",
   "metadata": {},
   "outputs": [
    {
     "data": {
      "text/plain": [
       "'y'"
      ]
     },
     "execution_count": 4,
     "metadata": {},
     "output_type": "execute_result"
    }
   ],
   "source": [
    "mystr[1]"
   ]
  },
  {
   "cell_type": "code",
   "execution_count": 5,
   "id": "d93503e5",
   "metadata": {},
   "outputs": [
    {
     "data": {
      "text/plain": [
       "' '"
      ]
     },
     "execution_count": 5,
     "metadata": {},
     "output_type": "execute_result"
    }
   ],
   "source": [
    "mystr[2]"
   ]
  },
  {
   "cell_type": "markdown",
   "id": "cf4ebca5",
   "metadata": {},
   "source": [
    "_*space is also a index_"
   ]
  },
  {
   "cell_type": "code",
   "execution_count": 6,
   "id": "f228f56a",
   "metadata": {},
   "outputs": [
    {
     "data": {
      "text/plain": [
       "'P'"
      ]
     },
     "execution_count": 6,
     "metadata": {},
     "output_type": "execute_result"
    }
   ],
   "source": [
    "mystr[3]"
   ]
  },
  {
   "cell_type": "code",
   "execution_count": 7,
   "id": "5494985e",
   "metadata": {},
   "outputs": [
    {
     "data": {
      "text/plain": [
       "'e'"
      ]
     },
     "execution_count": 7,
     "metadata": {},
     "output_type": "execute_result"
    }
   ],
   "source": [
    "mystr[4]"
   ]
  },
  {
   "cell_type": "code",
   "execution_count": 8,
   "id": "23ffed3e",
   "metadata": {
    "scrolled": true
   },
   "outputs": [
    {
     "data": {
      "text/plain": [
       "'n'"
      ]
     },
     "execution_count": 8,
     "metadata": {},
     "output_type": "execute_result"
    }
   ],
   "source": [
    "mystr[5]"
   ]
  },
  {
   "cell_type": "markdown",
   "id": "c669b765",
   "metadata": {},
   "source": [
    "Printing range of indeces"
   ]
  },
  {
   "cell_type": "code",
   "execution_count": 10,
   "id": "b6f75081",
   "metadata": {
    "scrolled": true
   },
   "outputs": [
    {
     "data": {
      "text/plain": [
       "'My '"
      ]
     },
     "execution_count": 10,
     "metadata": {},
     "output_type": "execute_result"
    }
   ],
   "source": [
    "mystr[0:3]"
   ]
  },
  {
   "cell_type": "code",
   "execution_count": 12,
   "id": "bcd18c87",
   "metadata": {},
   "outputs": [
    {
     "data": {
      "text/plain": [
       "'My Pen'"
      ]
     },
     "execution_count": 12,
     "metadata": {},
     "output_type": "execute_result"
    }
   ],
   "source": [
    "mystr[0:6]"
   ]
  },
  {
   "cell_type": "markdown",
   "id": "56e96e41",
   "metadata": {},
   "source": [
    "_last index will be exclusive_ as length is 6 and index is starting from zero, total alphbets are 6 including 1 space."
   ]
  },
  {
   "cell_type": "code",
   "execution_count": 14,
   "id": "d13d6624",
   "metadata": {},
   "outputs": [
    {
     "data": {
      "text/plain": [
       "'n'"
      ]
     },
     "execution_count": 14,
     "metadata": {},
     "output_type": "execute_result"
    }
   ],
   "source": [
    "mystr[-1]"
   ]
  },
  {
   "cell_type": "code",
   "execution_count": 15,
   "id": "49b7bdd6",
   "metadata": {},
   "outputs": [
    {
     "data": {
      "text/plain": [
       "'e'"
      ]
     },
     "execution_count": 15,
     "metadata": {},
     "output_type": "execute_result"
    }
   ],
   "source": [
    "mystr[-2]"
   ]
  },
  {
   "cell_type": "code",
   "execution_count": 16,
   "id": "608d0328",
   "metadata": {},
   "outputs": [
    {
     "data": {
      "text/plain": [
       "'P'"
      ]
     },
     "execution_count": 16,
     "metadata": {},
     "output_type": "execute_result"
    }
   ],
   "source": [
    "mystr[-3]"
   ]
  },
  {
   "cell_type": "markdown",
   "id": "108b1337",
   "metadata": {},
   "source": [
    "if we put - index number, it starts indexing from end of the string"
   ]
  },
  {
   "cell_type": "code",
   "execution_count": 17,
   "id": "aa5e4f55",
   "metadata": {},
   "outputs": [
    {
     "data": {
      "text/plain": [
       "'Pe'"
      ]
     },
     "execution_count": 17,
     "metadata": {},
     "output_type": "execute_result"
    }
   ],
   "source": [
    "mystr[-3:-1]"
   ]
  },
  {
   "cell_type": "code",
   "execution_count": 19,
   "id": "6f9b5e2c",
   "metadata": {},
   "outputs": [
    {
     "data": {
      "text/plain": [
       "'Pen'"
      ]
     },
     "execution_count": 19,
     "metadata": {},
     "output_type": "execute_result"
    }
   ],
   "source": [
    "mystr[-3:6]"
   ]
  },
  {
   "cell_type": "code",
   "execution_count": 20,
   "id": "cbe01d2f",
   "metadata": {
    "scrolled": true
   },
   "outputs": [
    {
     "data": {
      "text/plain": [
       "' Pen'"
      ]
     },
     "execution_count": 20,
     "metadata": {},
     "output_type": "execute_result"
    }
   ],
   "source": [
    "mystr[-4:6]"
   ]
  },
  {
   "cell_type": "markdown",
   "id": "4f472eec",
   "metadata": {},
   "source": [
    "It is not removing first 4 indeces but printing last 4 out of total string length (6)."
   ]
  },
  {
   "cell_type": "markdown",
   "id": "3e1dfb0d",
   "metadata": {},
   "source": [
    "## String Methods"
   ]
  },
  {
   "cell_type": "code",
   "execution_count": 23,
   "id": "b4b1c7fa",
   "metadata": {},
   "outputs": [
    {
     "data": {
      "text/plain": [
       "'pizza is very hot'"
      ]
     },
     "execution_count": 23,
     "metadata": {},
     "output_type": "execute_result"
    }
   ],
   "source": [
    "food = \"pizza is very hot\"\n",
    "food"
   ]
  },
  {
   "cell_type": "code",
   "execution_count": 24,
   "id": "a6ee432e",
   "metadata": {},
   "outputs": [
    {
     "data": {
      "text/plain": [
       "17"
      ]
     },
     "execution_count": 24,
     "metadata": {},
     "output_type": "execute_result"
    }
   ],
   "source": [
    "len(food)"
   ]
  },
  {
   "cell_type": "markdown",
   "id": "be34d54b",
   "metadata": {},
   "source": [
    "First letter capitalize"
   ]
  },
  {
   "cell_type": "code",
   "execution_count": 25,
   "id": "be04bdfd",
   "metadata": {},
   "outputs": [
    {
     "data": {
      "text/plain": [
       "'Pizza is very hot'"
      ]
     },
     "execution_count": 25,
     "metadata": {},
     "output_type": "execute_result"
    }
   ],
   "source": [
    "food.capitalize()"
   ]
  },
  {
   "cell_type": "markdown",
   "id": "2c5ce830",
   "metadata": {},
   "source": [
    "All letters upper case"
   ]
  },
  {
   "cell_type": "code",
   "execution_count": 26,
   "id": "b5a54917",
   "metadata": {},
   "outputs": [
    {
     "data": {
      "text/plain": [
       "'PIZZA IS VERY HOT'"
      ]
     },
     "execution_count": 26,
     "metadata": {},
     "output_type": "execute_result"
    }
   ],
   "source": [
    "food.upper()"
   ]
  },
  {
   "cell_type": "markdown",
   "id": "6a5f498b",
   "metadata": {},
   "source": [
    "All letters lower case"
   ]
  },
  {
   "cell_type": "code",
   "execution_count": 29,
   "id": "a0e5fff6",
   "metadata": {
    "scrolled": true
   },
   "outputs": [
    {
     "data": {
      "text/plain": [
       "'pizza is very hot'"
      ]
     },
     "execution_count": 29,
     "metadata": {},
     "output_type": "execute_result"
    }
   ],
   "source": [
    "food.lower()"
   ]
  },
  {
   "cell_type": "markdown",
   "id": "dc4a2c94",
   "metadata": {},
   "source": [
    "To replace any thing in string:"
   ]
  },
  {
   "cell_type": "code",
   "execution_count": 30,
   "id": "3b00ebc5",
   "metadata": {},
   "outputs": [
    {
     "data": {
      "text/plain": [
       "'pizza is not hot'"
      ]
     },
     "execution_count": 30,
     "metadata": {},
     "output_type": "execute_result"
    }
   ],
   "source": [
    "food.replace(\"very\", \"not\")"
   ]
  },
  {
   "cell_type": "markdown",
   "id": "40e65906",
   "metadata": {},
   "source": [
    "To count a specific alphabets in a string (Used in Sequencing Reads)"
   ]
  },
  {
   "cell_type": "code",
   "execution_count": 32,
   "id": "4ea3fb95",
   "metadata": {},
   "outputs": [
    {
     "data": {
      "text/plain": [
       "'AGTCAAGTCCAATCCCTAGGCATCC'"
      ]
     },
     "execution_count": 32,
     "metadata": {},
     "output_type": "execute_result"
    }
   ],
   "source": [
    "seq = \"AGTCAAGTCCAATCCCTAGGCATCC\"\n",
    "seq"
   ]
  },
  {
   "cell_type": "code",
   "execution_count": 34,
   "id": "f2af59da",
   "metadata": {},
   "outputs": [
    {
     "data": {
      "text/plain": [
       "7"
      ]
     },
     "execution_count": 34,
     "metadata": {},
     "output_type": "execute_result"
    }
   ],
   "source": [
    "seq.count(\"A\")"
   ]
  },
  {
   "cell_type": "code",
   "execution_count": 35,
   "id": "2fa5a4f0",
   "metadata": {},
   "outputs": [
    {
     "data": {
      "text/plain": [
       "2"
      ]
     },
     "execution_count": 35,
     "metadata": {},
     "output_type": "execute_result"
    }
   ],
   "source": [
    "seq.count(\"ATC\")"
   ]
  },
  {
   "cell_type": "markdown",
   "id": "a302880b",
   "metadata": {},
   "source": [
    "### Finding an index number in a string"
   ]
  },
  {
   "cell_type": "code",
   "execution_count": 37,
   "id": "6d8e16ea",
   "metadata": {},
   "outputs": [
    {
     "data": {
      "text/plain": [
       "'AGTCAAGTCCAATCCCTAGGCATCC'"
      ]
     },
     "execution_count": 37,
     "metadata": {},
     "output_type": "execute_result"
    }
   ],
   "source": [
    "seq = \"AGTCAAGTCCAATCCCTAGGCATCC\"\n",
    "seq"
   ]
  },
  {
   "cell_type": "code",
   "execution_count": 41,
   "id": "19f9a461",
   "metadata": {
    "scrolled": true
   },
   "outputs": [
    {
     "data": {
      "text/plain": [
       "11"
      ]
     },
     "execution_count": 41,
     "metadata": {},
     "output_type": "execute_result"
    }
   ],
   "source": [
    "seq.find(\"ATC\")"
   ]
  },
  {
   "cell_type": "code",
   "execution_count": 42,
   "id": "f88f150f",
   "metadata": {},
   "outputs": [
    {
     "data": {
      "text/plain": [
       "'My name is Ghulam Asghar Sajid'"
      ]
     },
     "execution_count": 42,
     "metadata": {},
     "output_type": "execute_result"
    }
   ],
   "source": [
    "name = \"My name is Ghulam Asghar Sajid\"\n",
    "name"
   ]
  },
  {
   "cell_type": "code",
   "execution_count": 44,
   "id": "a6eeb9d0",
   "metadata": {},
   "outputs": [
    {
     "data": {
      "text/plain": [
       "25"
      ]
     },
     "execution_count": 44,
     "metadata": {},
     "output_type": "execute_result"
    }
   ],
   "source": [
    "name.find(\"S\")"
   ]
  },
  {
   "cell_type": "code",
   "execution_count": 45,
   "id": "90ff5d4c",
   "metadata": {},
   "outputs": [
    {
     "data": {
      "text/plain": [
       "9"
      ]
     },
     "execution_count": 45,
     "metadata": {},
     "output_type": "execute_result"
    }
   ],
   "source": [
    "name.find(\"s\")"
   ]
  },
  {
   "cell_type": "markdown",
   "id": "61fa7cab",
   "metadata": {},
   "source": [
    "_so it is case sensitive_"
   ]
  },
  {
   "cell_type": "markdown",
   "id": "d4bbe7a7",
   "metadata": {},
   "source": [
    "### Spliting a string"
   ]
  },
  {
   "cell_type": "code",
   "execution_count": 47,
   "id": "3d0063c0",
   "metadata": {},
   "outputs": [
    {
     "data": {
      "text/plain": [
       "'I have dog, cat, cattle, alephent, lion and sheep'"
      ]
     },
     "execution_count": 47,
     "metadata": {},
     "output_type": "execute_result"
    }
   ],
   "source": [
    "animals = \"I have dog, cat, cattle, alephent, lion and sheep\"\n",
    "animals"
   ]
  },
  {
   "cell_type": "code",
   "execution_count": 48,
   "id": "0ad7a06a",
   "metadata": {},
   "outputs": [
    {
     "data": {
      "text/plain": [
       "['I have dog', ' cat', ' cattle', ' alephent', ' lion and sheep']"
      ]
     },
     "execution_count": 48,
     "metadata": {},
     "output_type": "execute_result"
    }
   ],
   "source": [
    "animals.split(\",\")"
   ]
  },
  {
   "cell_type": "markdown",
   "id": "251a0b81",
   "metadata": {},
   "source": [
    "_splitted on the bases of ,_"
   ]
  }
 ],
 "metadata": {
  "kernelspec": {
   "display_name": "Python 3 (ipykernel)",
   "language": "python",
   "name": "python3"
  },
  "language_info": {
   "codemirror_mode": {
    "name": "ipython",
    "version": 3
   },
   "file_extension": ".py",
   "mimetype": "text/x-python",
   "name": "python",
   "nbconvert_exporter": "python",
   "pygments_lexer": "ipython3",
   "version": "3.9.7"
  }
 },
 "nbformat": 4,
 "nbformat_minor": 5
}
