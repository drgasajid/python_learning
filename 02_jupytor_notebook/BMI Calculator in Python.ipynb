{
 "cells": [
  {
   "cell_type": "markdown",
   "id": "157bd161",
   "metadata": {},
   "source": [
    "## Body Mass Index (BMI)  \n",
    "- Input\n",
    "1. Body Height\n",
    "2. Body Weight"
   ]
  },
  {
   "cell_type": "code",
   "execution_count": 1,
   "id": "75aa9373",
   "metadata": {},
   "outputs": [
    {
     "name": "stdout",
     "output_type": "stream",
     "text": [
      "What is your name? Raheel Raza\n"
     ]
    }
   ],
   "source": [
    "name = input(\"What is your name? \")"
   ]
  },
  {
   "cell_type": "code",
   "execution_count": 2,
   "id": "f3011f2c",
   "metadata": {},
   "outputs": [
    {
     "name": "stdout",
     "output_type": "stream",
     "text": [
      "What is your height? 1.74\n"
     ]
    }
   ],
   "source": [
    "height = float(input(\"What is your height? \"))"
   ]
  },
  {
   "cell_type": "code",
   "execution_count": 3,
   "id": "87e7f24f",
   "metadata": {},
   "outputs": [
    {
     "name": "stdout",
     "output_type": "stream",
     "text": [
      "What is your weight? 65\n"
     ]
    }
   ],
   "source": [
    "weight = int(input(\"What is your weight? \"))"
   ]
  },
  {
   "cell_type": "code",
   "execution_count": 4,
   "id": "ff3ff9ed",
   "metadata": {},
   "outputs": [
    {
     "data": {
      "text/plain": [
       "21.469150482230148"
      ]
     },
     "execution_count": 4,
     "metadata": {},
     "output_type": "execute_result"
    }
   ],
   "source": [
    "bmi = float(weight/height**2)\n",
    "bmi"
   ]
  },
  {
   "cell_type": "code",
   "execution_count": 5,
   "id": "12ebf82a",
   "metadata": {},
   "outputs": [
    {
     "name": "stdout",
     "output_type": "stream",
     "text": [
      "BMI of Raheel Raza is 21.469150482230148\n"
     ]
    }
   ],
   "source": [
    "print(\"BMI of\", name, \"is\", bmi)"
   ]
  },
  {
   "cell_type": "code",
   "execution_count": 7,
   "id": "28296ec7",
   "metadata": {},
   "outputs": [
    {
     "name": "stdout",
     "output_type": "stream",
     "text": [
      "Be careful\n"
     ]
    }
   ],
   "source": [
    "if bmi == 25.0:\n",
    "    print(\"Normal\")\n",
    "elif bmi < 20.0:\n",
    "    print(\"Underweight\")\n",
    "elif bmi > 30.0:\n",
    "    print(\"Overweight\")\n",
    "else:\n",
    "    print(\"Be careful\")"
   ]
  },
  {
   "cell_type": "code",
   "execution_count": null,
   "id": "b5862247",
   "metadata": {},
   "outputs": [],
   "source": []
  }
 ],
 "metadata": {
  "kernelspec": {
   "display_name": "Python 3 (ipykernel)",
   "language": "python",
   "name": "python3"
  },
  "language_info": {
   "codemirror_mode": {
    "name": "ipython",
    "version": 3
   },
   "file_extension": ".py",
   "mimetype": "text/x-python",
   "name": "python",
   "nbconvert_exporter": "python",
   "pygments_lexer": "ipython3",
   "version": "3.9.7"
  }
 },
 "nbformat": 4,
 "nbformat_minor": 5
}
